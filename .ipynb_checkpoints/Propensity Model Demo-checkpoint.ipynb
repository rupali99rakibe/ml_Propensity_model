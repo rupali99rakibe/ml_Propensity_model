{
 "cells": [
  {
   "cell_type": "code",
   "execution_count": 1,
   "id": "2fcac770-bd29-442b-80f0-fc5e2df9b1ee",
   "metadata": {},
   "outputs": [],
   "source": [
    "from data_processing import clean_data\n",
    "\n",
    "import pandas as pd \n",
    "from sklearn.model_selection import train_model"
   ]
  },
  {
   "cell_type": "code",
   "execution_count": null,
   "id": "01eeb798-82db-4e4f-b274-62c61ae64fc1",
   "metadata": {},
   "outputs": [],
   "source": [
    "# load original data, clean it and export final cleaned data\n",
    "# read data\n",
    "path = 'train.csv'\n",
    "# load the dataframe\n",
    "df = pd.read_csv(path,sep=';')\n",
    "clean_data(df)"
   ]
  },
  {
   "cell_type": "code",
   "execution_count": null,
   "id": "65d2e5df-4ca7-41e7-95ca-780b6aaea7b4",
   "metadata": {},
   "outputs": [],
   "source": [
    "# Load cleaned data and train the model\n",
    "# read data\n",
    "final_data = pd.read_csv(path)\n",
    "rfc_model = train_model(final_data)"
   ]
  }
 ],
 "metadata": {
  "kernelspec": {
   "display_name": "Python 3 (ipykernel)",
   "language": "python",
   "name": "python3"
  },
  "language_info": {
   "codemirror_mode": {
    "name": "ipython",
    "version": 3
   },
   "file_extension": ".py",
   "mimetype": "text/x-python",
   "name": "python",
   "nbconvert_exporter": "python",
   "pygments_lexer": "ipython3",
   "version": "3.11.7"
  },
  "widgets": {
   "application/vnd.jupyter.widget-state+json": {
    "state": {},
    "version_major": 2,
    "version_minor": 0
   }
  }
 },
 "nbformat": 4,
 "nbformat_minor": 5
}
